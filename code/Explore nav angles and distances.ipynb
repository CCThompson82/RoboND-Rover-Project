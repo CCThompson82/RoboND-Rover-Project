{
 "cells": [
  {
   "cell_type": "code",
   "execution_count": 1,
   "metadata": {},
   "outputs": [],
   "source": [
    "import pandas as pd\n",
    "import numpy as np\n"
   ]
  },
  {
   "cell_type": "code",
   "execution_count": 9,
   "metadata": {},
   "outputs": [],
   "source": [
    "nav_df = pd.read_csv('../.tmp/navigation_df.csv', index_col= 0)\n",
    "rocks_df = pd.read_csv('../.tmp/rocks_df.csv', index_col = 0)"
   ]
  },
  {
   "cell_type": "code",
   "execution_count": 10,
   "metadata": {},
   "outputs": [
    {
     "name": "stdout",
     "output_type": "stream",
     "text": [
      "(24, 2)\n",
      "      angles   distance\n",
      "0  -0.477345  32.649655\n",
      "1  -0.463648  31.304952\n",
      "2  -0.491809  31.764760\n",
      "3  -0.478352  30.413813\n",
      "4  -0.463648  29.068884\n",
      "5  -0.493941  29.529646\n",
      "6  -0.479519  28.178006\n",
      "7  -0.510488  28.653098\n",
      "8  -0.463648  26.832816\n",
      "9  -0.496423  27.294688\n",
      "10 -0.480887  25.942244\n",
      "11 -0.514451  26.419690\n",
      "12 -0.463648  24.596748\n",
      "13 -0.499347  25.059928\n",
      "14 -0.482513  23.706539\n",
      "15 -0.519146  24.186773\n",
      "16 -0.463648  22.360680\n",
      "17 -0.502843  22.825424\n",
      "18 -0.484478  21.470911\n",
      "19 -0.524796  21.954498\n",
      "20 -0.463648  20.124612\n",
      "21 -0.507099  20.591260\n",
      "22 -0.486899  19.235384\n",
      "23 -0.512389  18.357560\n"
     ]
    }
   ],
   "source": [
    "print(rocks_df.shape)\n",
    "print(rocks_df)\n"
   ]
  },
  {
   "cell_type": "code",
   "execution_count": 7,
   "metadata": {},
   "outputs": [],
   "source": [
    "?pd.read_csv"
   ]
  },
  {
   "cell_type": "code",
   "execution_count": null,
   "metadata": {},
   "outputs": [],
   "source": []
  }
 ],
 "metadata": {
  "kernelspec": {
   "display_name": "Python [default]",
   "language": "python",
   "name": "python3"
  },
  "language_info": {
   "codemirror_mode": {
    "name": "ipython",
    "version": 3
   },
   "file_extension": ".py",
   "mimetype": "text/x-python",
   "name": "python",
   "nbconvert_exporter": "python",
   "pygments_lexer": "ipython3",
   "version": "3.5.2"
  },
  "widgets": {
   "state": {},
   "version": "1.1.2"
  }
 },
 "nbformat": 4,
 "nbformat_minor": 2
}

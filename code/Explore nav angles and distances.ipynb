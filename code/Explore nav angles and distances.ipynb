{
 "cells": [
  {
   "cell_type": "code",
   "execution_count": 16,
   "metadata": {},
   "outputs": [],
   "source": [
    "import pandas as pd\n",
    "import numpy as np\n",
    "import matplotlib.pyplot as plt\n",
    "% matplotlib inline"
   ]
  },
  {
   "cell_type": "code",
   "execution_count": 23,
   "metadata": {},
   "outputs": [],
   "source": [
    "nav_df = pd.read_csv('../.tmp/navigation_df.csv', index_col= 0)\n",
    "rocks_df = pd.read_csv('../.tmp/rocks_df.csv', index_col = 0)\n",
    "obs_map = pd.read_csv('../.tmp/obs_map.csv', index_col =0)\n",
    "obs_map = obs_map > 0\n",
    "obs_df = pd.read_csv('../.tmp/obs_df.csv', index_col = 0)"
   ]
  },
  {
   "cell_type": "code",
   "execution_count": 24,
   "metadata": {},
   "outputs": [
    {
     "name": "stdout",
     "output_type": "stream",
     "text": [
      "(0, 2)\n",
      "Empty DataFrame\n",
      "Columns: [angles, distance]\n",
      "Index: []\n",
      "(6636, 2)\n",
      "     angles    distance\n",
      "0  0.631691  152.410630\n",
      "1  0.630257  151.013244\n",
      "2  0.624886  150.426062\n",
      "3  0.619474  149.843251\n",
      "4  0.628796  149.616176\n",
      "     angles    distance\n",
      "0  0.785398  226.274170\n",
      "1  0.782263  225.568172\n",
      "2  0.779109  224.864404\n",
      "3  0.775935  224.162887\n",
      "4  0.772741  223.463644\n"
     ]
    },
    {
     "data": {
      "image/png": "[encoded data removed]",
      "text/plain": [
       "<matplotlib.figure.Figure at 0x10fe64b70>"
      ]
     },
     "metadata": {},
     "output_type": "display_data"
    }
   ],
   "source": [
    "print(rocks_df.shape)\n",
    "print(rocks_df.head())\n",
    "print(nav_df.shape)\n",
    "print(nav_df.head())\n",
    "print(obs_df.head())\n",
    "plt.imshow(obs_map.values)\n",
    "plt.show()"
   ]
  },
  {
   "cell_type": "code",
   "execution_count": 26,
   "metadata": {},
   "outputs": [
    {
     "name": "stdout",
     "output_type": "stream",
     "text": [
      "            angles     distance\n",
      "count  6636.000000  6636.000000\n",
      "mean      0.148583    71.906144\n",
      "std       0.358332    29.793519\n",
      "min      -0.708626     5.000000\n",
      "25%      -0.124355    50.328918\n",
      "50%       0.213287    71.794846\n",
      "75%       0.463648    93.001344\n",
      "max       0.708626   152.410630\n"
     ]
    }
   ],
   "source": [
    "print(nav_df.describe())"
   ]
  },
  {
   "cell_type": "code",
   "execution_count": 25,
   "metadata": {},
   "outputs": [
    {
     "name": "stdout",
     "output_type": "stream",
     "text": [
      "             angles      distance\n",
      "count  44564.000000  44564.000000\n",
      "mean      -0.018070    130.328171\n",
      "std        0.936304     42.577732\n",
      "min       -1.564507      1.000000\n",
      "25%       -0.847817    103.484298\n",
      "50%       -0.120529    135.793962\n",
      "75%        0.854084    160.031247\n",
      "max        1.564546    226.274170\n"
     ]
    }
   ],
   "source": [
    "print(obs_df.describe())"
   ]
  },
  {
   "cell_type": "code",
   "execution_count": 84,
   "metadata": {},
   "outputs": [
    {
     "name": "stdout",
     "output_type": "stream",
     "text": [
      "mean yaw angle: 1.1118360417428232\n",
      "weighted mean yaw angle: 1.0418502752169743\n",
      "weighted by heading yaw angle: 0.7246101541213905\n"
     ]
    }
   ],
   "source": [
    "\"\"\"Find the normal at a range of rover yaw angles\"\"\"\n",
    "yaws = []\n",
    "distances = []\n",
    "headings = range(-5,65,5)\n",
    "for phi in headings:\n",
    "    phi = np.deg2rad(phi)\n",
    "\n",
    "    \n",
    "    ar = np.min(obs_df[(obs_df.angles > phi-0.01) & (obs_df.angles < phi+0.01)].distance)\n",
    "    a = np.min(obs_df[(obs_df.angles > phi-0.01) & (obs_df.angles < phi+0.01)].angles)\n",
    "    br = np.max(obs_df[(obs_df.angles > phi-0.01) & (obs_df.angles < phi+0.01)].distance)\n",
    "    b = np.max(obs_df[(obs_df.angles > phi-0.01) & (obs_df.angles < phi+0.01)].angles)\n",
    "    \n",
    "    max_threshold = 100\n",
    "    if (ar > max_threshold) & (br > max_threshold) :\n",
    "        normal = 0 \n",
    "    else :\n",
    "        ax, ay = np.sin(a)*ar, np.cos(a)*ar\n",
    "        bx, by = np.sin(b)*br, np.cos(b)*br\n",
    "\n",
    "        normal = ((bx - ax) / (ay - by))\n",
    "#     print('tangent angle: {}'.format(theta))\n",
    "    yaw = normal + (np.pi/2)\n",
    "    yaws.append(yaw)\n",
    "    distances.append(np.mean([ar,br]))\n",
    "    \n",
    "print('mean yaw angle: {}'.format(np.mean(yaws)))\n",
    "print('weighted mean yaw angle: {}'.format(np.average(yaws, weights=[1/d for d in distances])))\n",
    "print('weighted by heading yaw angle: {}'.format(np.average(yaws, weights = [phi - np.abs(h) for h in headings]/phi)))\n",
    "    "
   ]
  },
  {
   "cell_type": "code",
   "execution_count": null,
   "metadata": {},
   "outputs": [],
   "source": []
  }
 ],
 "metadata": {
  "kernelspec": {
   "display_name": "Python [default]",
   "language": "python",
   "name": "python3"
  },
  "language_info": {
   "codemirror_mode": {
    "name": "ipython",
    "version": 3
   },
   "file_extension": ".py",
   "mimetype": "text/x-python",
   "name": "python",
   "nbconvert_exporter": "python",
   "pygments_lexer": "ipython3",
   "version": "3.5.2"
  },
  "widgets": {
   "state": {},
   "version": "1.1.2"
  }
 },
 "nbformat": 4,
 "nbformat_minor": 2
}

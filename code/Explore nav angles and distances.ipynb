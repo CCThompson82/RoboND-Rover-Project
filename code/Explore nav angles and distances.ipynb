{
 "cells": [
  {
   "cell_type": "code",
   "execution_count": 1,
   "metadata": {},
   "outputs": [],
   "source": [
    "import pandas as pd\n",
    "import numpy as np\n",
    "import matplotlib.pyplot as plt\n",
    "% matplotlib inline"
   ]
  },
  {
   "cell_type": "code",
   "execution_count": 2,
   "metadata": {},
   "outputs": [],
   "source": [
    "nav_df = pd.read_csv('../.tmp/navigation_df.csv', index_col= 0)\n",
    "rocks_df = pd.read_csv('../.tmp/rocks_df.csv', index_col = 0)\n",
    "obs_map = pd.read_csv('../.tmp/obs_map.csv', index_col =0)\n",
    "obs_map = obs_map > 0\n",
    "obs_df = pd.read_csv('../.tmp/obs_df.csv', index_col = 0)\n",
    "obs_pix_df = pd.read_csv('../.tmp/obs_pix.csv', index_col = 0)"
   ]
  },
  {
   "cell_type": "code",
   "execution_count": 3,
   "metadata": {},
   "outputs": [
    {
     "name": "stdout",
     "output_type": "stream",
     "text": [
      "(0, 2)\n",
      "Empty DataFrame\n",
      "Columns: [angles, distance]\n",
      "Index: []\n",
      "(2107, 2)\n",
      "     angles    distance\n",
      "0 -0.261139  120.070812\n",
      "1 -0.263307  119.104996\n",
      "2 -0.240846  117.388245\n",
      "3 -0.257324  117.881296\n",
      "4 -0.265510  118.139748\n",
      "     angles    distance\n",
      "0  0.785398  226.274170\n",
      "1  0.782263  225.568172\n",
      "2  0.779109  224.864404\n",
      "3  0.775935  224.162887\n",
      "4  0.772741  223.463644\n"
     ]
    }
   ],
   "source": [
    "print(rocks_df.shape)\n",
    "print(rocks_df.head())\n",
    "print(nav_df.shape)\n",
    "print(nav_df.head())\n",
    "print(obs_df.head())\n"
   ]
  },
  {
   "cell_type": "code",
   "execution_count": 4,
   "metadata": {},
   "outputs": [
    {
     "name": "stdout",
     "output_type": "stream",
     "text": [
      "            angles     distance\n",
      "count  2107.000000  2107.000000\n",
      "mean     -0.340468    96.397718\n",
      "std       0.213396    13.252255\n",
      "min      -0.632749    70.611614\n",
      "25%      -0.499000    85.146932\n",
      "50%      -0.367174    96.840074\n",
      "75%      -0.241300   107.436027\n",
      "max       0.317459   122.967475\n"
     ]
    }
   ],
   "source": [
    "print(nav_df.describe())"
   ]
  },
  {
   "cell_type": "code",
   "execution_count": 5,
   "metadata": {},
   "outputs": [
    {
     "name": "stdout",
     "output_type": "stream",
     "text": [
      "             angles      distance\n",
      "count  46448.000000  46448.000000\n",
      "mean       0.034170    127.418459\n",
      "std        0.920176     44.274045\n",
      "min       -1.564507      1.000000\n",
      "25%       -0.827489     97.616597\n",
      "50%        0.161998    133.764719\n",
      "75%        0.833649    159.100597\n",
      "max        1.564546    226.274170\n"
     ]
    }
   ],
   "source": [
    "print(obs_df.describe())"
   ]
  },
  {
   "cell_type": "code",
   "execution_count": 15,
   "metadata": {},
   "outputs": [
    {
     "name": "stdout",
     "output_type": "stream",
     "text": [
      "normal angle: 1.166112563151205\n",
      "normal angle: 0.9799506586040088\n",
      "normal angle: 0.8195455354457079\n",
      "normal angle: 0\n",
      "normal angle: 0.5629132340018644\n",
      "normal angle: 0\n",
      "normal angle: 0.35178881526723094\n",
      "normal angle: 0\n",
      "normal angle: 0\n",
      "normal angle: 0\n",
      "normal angle: -0.010125783691382407\n",
      "normal angle: 0\n",
      "normal angle: -0.18975264061648195\n",
      "mean yaw angle: -0.5022879801542058\n",
      "weighted mean yaw angle: -0.4933992040396355\n",
      "weighted by heading yaw angle: -0.24124935656590205\n",
      "weighted average: -0.36732428030276876\n"
     ]
    }
   ],
   "source": [
    "\"\"\"Find the normal at a range of rover yaw angles\"\"\"\n",
    "right = -50\n",
    "left = 15\n",
    "\n",
    "yaws = []\n",
    "distances = []\n",
    "headings = range(right,left, 5)\n",
    "for phi in headings:\n",
    "    phi = np.deg2rad(phi)\n",
    "\n",
    "    \n",
    "    ar = np.min(obs_df[(obs_df.angles > phi-0.01) & (obs_df.angles < phi+0.01)].distance)\n",
    "    a = np.min(obs_df[(obs_df.angles > phi-0.01) & (obs_df.angles < phi+0.01)].angles)\n",
    "    br = np.max(obs_df[(obs_df.angles > phi-0.01) & (obs_df.angles < phi+0.01)].distance)\n",
    "    b = np.max(obs_df[(obs_df.angles > phi-0.01) & (obs_df.angles < phi+0.01)].angles)\n",
    "    \n",
    "    max_threshold = 50\n",
    "    if (ar > max_threshold) & (br > max_threshold) :\n",
    "        normal = 0 \n",
    "    else :\n",
    "        ax, ay = np.sin(a)*ar, np.cos(a)*ar\n",
    "        bx, by = np.sin(b)*br, np.cos(b)*br\n",
    "\n",
    "        normal = ((bx - ax) / (ay - by))\n",
    "    print('normal angle: {}'.format(normal))\n",
    "    yaw = normal - (np.pi/4)\n",
    "    yaws.append(yaw)\n",
    "    distances.append(np.mean([ar,br]))\n",
    "    \n",
    "m1 = np.mean(yaws)\n",
    "m2 = np.average(yaws, weights=[1/d for d in distances])\n",
    "m3 = np.average(yaws, weights = [(phi - np.abs(h)) for h in headings]/(phi))\n",
    "m4 = np.mean([m3,m2])\n",
    "    \n",
    "print('mean yaw angle: {}'.format(m1))\n",
    "print('weighted mean yaw angle: {}'.format(m2))\n",
    "print('weighted by heading yaw angle: {}'.format(m3))\n",
    "print('weighted average: {}'.format(m4))    "
   ]
  },
  {
   "cell_type": "code",
   "execution_count": 16,
   "metadata": {},
   "outputs": [
    {
     "data": {
      "image/png": "[encoded data removed]",
      "text/plain": [
       "<matplotlib.figure.Figure at 0x10c6e0400>"
      ]
     },
     "metadata": {},
     "output_type": "display_data"
    }
   ],
   "source": [
    "arrow_length = 20\n",
    "# m3 = 0\n",
    "f, axarr = plt.subplots(1)\n",
    "axarr.plot(obs_pix_df.xpix, obs_pix_df.ypix, '.')\n",
    "x_arrow = arrow_length * np.cos(m3)\n",
    "y_arrow = arrow_length * np.sin(m3)\n",
    "axarr.arrow(10,0, 140*np.cos(np.deg2rad(right)), 140*np.sin(np.deg2rad(right)), color='yellow', zorder=2, head_width=5, width=2)\n",
    "axarr.arrow(10,0, 140*np.cos(np.deg2rad(left)), 140*np.sin(np.deg2rad(left)), color='yellow', zorder=2, head_width=5, width=2)\n",
    "\n",
    "axarr.arrow(10, 0, x_arrow, y_arrow, color='red', zorder=2, head_width=5, width=2)\n",
    "plt.show()"
   ]
  },
  {
   "cell_type": "code",
   "execution_count": null,
   "metadata": {},
   "outputs": [],
   "source": []
  }
 ],
 "metadata": {
  "kernelspec": {
   "display_name": "Python [default]",
   "language": "python",
   "name": "python3"
  },
  "language_info": {
   "codemirror_mode": {
    "name": "ipython",
    "version": 3
   },
   "file_extension": ".py",
   "mimetype": "text/x-python",
   "name": "python",
   "nbconvert_exporter": "python",
   "pygments_lexer": "ipython3",
   "version": "3.5.2"
  },
  "widgets": {
   "state": {},
   "version": "1.1.2"
  }
 },
 "nbformat": 4,
 "nbformat_minor": 2
}
